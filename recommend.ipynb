{
  "nbformat": 4,
  "nbformat_minor": 0,
  "metadata": {
    "colab": {
      "provenance": []
    },
    "kernelspec": {
      "name": "python3",
      "display_name": "Python 3"
    },
    "language_info": {
      "name": "python"
    }
  },
  "cells": [
    {
      "cell_type": "markdown",
      "source": [
        "# Recommender Example Usage"
      ],
      "metadata": {
        "id": "l1iQK8kdu6WQ"
      }
    },
    {
      "cell_type": "code",
      "execution_count": 1,
      "metadata": {
        "id": "UVfYmEtDt4-X"
      },
      "outputs": [],
      "source": [
        "import numpy as np\n",
        "import pandas as pd\n",
        "from sklearn.metrics.pairwise import cosine_similarity"
      ]
    },
    {
      "cell_type": "code",
      "source": [
        "from google.colab import drive\n",
        "drive.mount('/content/drive')"
      ],
      "metadata": {
        "colab": {
          "base_uri": "https://localhost:8080/"
        },
        "id": "ej4WnQBot-z1",
        "outputId": "3b5fcdc2-8b47-4254-d5be-b9ee6668426f"
      },
      "execution_count": 2,
      "outputs": [
        {
          "output_type": "stream",
          "name": "stdout",
          "text": [
            "Mounted at /content/drive\n"
          ]
        }
      ]
    },
    {
      "cell_type": "code",
      "source": [
        "# Load data\n",
        "metadata = pd.read_csv('/content/drive/MyDrive/NLP/course_preprocessed.csv')\n",
        "embeddings = np.load('/content/drive/MyDrive/NLP/course_embeddings.npy')"
      ],
      "metadata": {
        "id": "Wtufn64RuKUP"
      },
      "execution_count": 3,
      "outputs": []
    },
    {
      "cell_type": "code",
      "source": [
        "def recommend_courses_by_title(course_title, top_k=5):\n",
        "    # Find the input course index (case-insensitive match)\n",
        "    matches = metadata[metadata['title'].str.lower() == course_title.lower()]\n",
        "    if matches.empty:\n",
        "        raise ValueError(f\"Course '{course_title}' not found.\")\n",
        "\n",
        "    course_index = matches.index[0]\n",
        "    query_embedding = embeddings[course_index].reshape(1, -1)\n",
        "\n",
        "    # Compute cosine similarity\n",
        "    similarities = cosine_similarity(query_embedding, embeddings)[0]\n",
        "    sorted_indices = np.argsort(similarities)[::-1]\n",
        "\n",
        "    # Get top_k similar courses (excluding the selected one)\n",
        "    top_indices = [i for i in sorted_indices if i != course_index][:top_k]\n",
        "    recommended_titles = metadata.iloc[top_indices]['title'].tolist()\n",
        "\n",
        "    return recommended_titles"
      ],
      "metadata": {
        "id": "Pw3ARfwAuvF-"
      },
      "execution_count": 4,
      "outputs": []
    },
    {
      "cell_type": "code",
      "source": [
        "# Example usage\n",
        "if __name__ == \"__main__\":\n",
        "    user_input = input(\"Enter course title: \")\n",
        "    try:\n",
        "        recommendations = recommend_courses_by_title(user_input, top_k=5)\n",
        "        print(\"\\nRecommended Course Titles:\")\n",
        "        for i, title in enumerate(recommendations, 1):\n",
        "            print(f\"{i}. {title}\")\n",
        "    except ValueError as e:\n",
        "        print(e)"
      ],
      "metadata": {
        "colab": {
          "base_uri": "https://localhost:8080/"
        },
        "id": "6P2hwwLjuy5C",
        "outputId": "e037d18b-4e69-46b1-dff6-0d0785bd1740"
      },
      "execution_count": 5,
      "outputs": [
        {
          "output_type": "stream",
          "name": "stdout",
          "text": [
            "Enter course title: mpcs 53001 databases (spring 2026)\n",
            "\n",
            "Recommended Course Titles:\n",
            "1. mpcs 53001 databases (summer 2025)\n",
            "2. mpcs 53001 databases (autumn 2025)\n",
            "3. mpcs 53001 databases (autumn 2025)\n",
            "4. mpcs 53001 databases (winter 2026)\n",
            "5. mpcs 52011 introduction to computer systems (winter 2026)\n"
          ]
        }
      ]
    },
    {
      "cell_type": "code",
      "source": [],
      "metadata": {
        "id": "dNiMff8Nu07b"
      },
      "execution_count": null,
      "outputs": []
    }
  ]
}